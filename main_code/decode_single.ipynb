{
 "cells": [
  {
   "cell_type": "markdown",
   "metadata": {
    "colab_type": "text",
    "id": "r_H3toxOx-z_"
   },
   "source": [
    "## Preparations\n",
    "* TensorFlow version == 1.x required\n",
    "* Gast version == 0.2.x, TensorFlow-Gan version == 1.x required"
   ]
  },
  {
   "cell_type": "code",
   "execution_count": null,
   "metadata": {
    "colab": {},
    "colab_type": "code",
    "executionInfo": {
     "elapsed": 477,
     "status": "ok",
     "timestamp": 1596486672444,
     "user": {
      "displayName": "West Russ",
      "photoUrl": "",
      "userId": "05427756979758116502"
     },
     "user_tz": -60
    },
    "id": "HYLr13jWx-1L"
   },
   "outputs": [],
   "source": [
    "import os\n",
    "os.environ[\"CUDA_VISIBLE_DEVICES\"] = \"0\""
   ]
  },
  {
   "cell_type": "code",
   "execution_count": null,
   "metadata": {
    "colab": {
     "base_uri": "https://localhost:8080/",
     "height": 34
    },
    "colab_type": "code",
    "executionInfo": {
     "elapsed": 8546,
     "status": "ok",
     "timestamp": 1596486680842,
     "user": {
      "displayName": "West Russ",
      "photoUrl": "",
      "userId": "05427756979758116502"
     },
     "user_tz": -60
    },
    "id": "6DqbZ_kRx-2Q",
    "outputId": "9aac6c72-bdfe-4922-9357-e1a85e4b56fe"
   },
   "outputs": [],
   "source": [
    "import numpy as np\n",
    "import tensorflow as tf\n",
    "from scipy.stats import norm\n",
    "import matplotlib.pyplot as plt\n",
    "tfd = tf.contrib.distributions\n",
    "\n",
    "%matplotlib inline\n",
    "%load_ext autoreload\n",
    "%autoreload 2"
   ]
  },
  {
   "cell_type": "code",
   "execution_count": null,
   "metadata": {
    "colab": {
     "base_uri": "https://localhost:8080/",
     "height": 476
    },
    "colab_type": "code",
    "executionInfo": {
     "elapsed": 9723,
     "status": "ok",
     "timestamp": 1596486682839,
     "user": {
      "displayName": "West Russ",
      "photoUrl": "",
      "userId": "05427756979758116502"
     },
     "user_tz": -60
    },
    "id": "wovB_quBx-2m",
    "outputId": "0a771cab-a46e-43e5-b228-330bcfb124d5"
   },
   "outputs": [],
   "source": [
    "from tensorflow.python.client import device_lib\n",
    "device_lib.list_local_devices()"
   ]
  },
  {
   "cell_type": "code",
   "execution_count": null,
   "metadata": {
    "colab": {
     "base_uri": "https://localhost:8080/",
     "height": 241
    },
    "colab_type": "code",
    "executionInfo": {
     "elapsed": 14362,
     "status": "ok",
     "timestamp": 1596486689360,
     "user": {
      "displayName": "West Russ",
      "photoUrl": "",
      "userId": "05427756979758116502"
     },
     "user_tz": -60
    },
    "id": "ea7B8S5Hx-3E",
    "outputId": "c6b70d4f-238b-4e31-99f9-34a97366f03b"
   },
   "outputs": [],
   "source": [
    "import utils\n",
    "import nets\n",
    "import flow_layers as fl"
   ]
  },
  {
   "cell_type": "code",
   "execution_count": null,
   "metadata": {
    "colab": {
     "base_uri": "https://localhost:8080/",
     "height": 34
    },
    "colab_type": "code",
    "executionInfo": {
     "elapsed": 13573,
     "status": "ok",
     "timestamp": 1596486689361,
     "user": {
      "displayName": "West Russ",
      "photoUrl": "",
      "userId": "05427756979758116502"
     },
     "user_tz": -60
    },
    "id": "9omZ-zg-x-3K",
    "outputId": "1966100a-c209-47ed-f12e-a051bb11833d"
   },
   "outputs": [],
   "source": [
    "print(tf.__version__)"
   ]
  },
  {
   "cell_type": "code",
   "execution_count": null,
   "metadata": {
    "colab": {},
    "colab_type": "code",
    "executionInfo": {
     "elapsed": 12729,
     "status": "ok",
     "timestamp": 1596486689362,
     "user": {
      "displayName": "West Russ",
      "photoUrl": "",
      "userId": "05427756979758116502"
     },
     "user_tz": -60
    },
    "id": "EHcGhRArx-3Q"
   },
   "outputs": [],
   "source": [
    "config = tf.ConfigProto()\n",
    "config.allow_soft_placement=True\n",
    "config.gpu_options.allow_growth = True\n",
    "tf.set_random_seed(0)\n",
    "sess = tf.InteractiveSession(config=config)"
   ]
  },
  {
   "cell_type": "markdown",
   "metadata": {
    "ExecuteTime": {
     "end_time": "2018-10-04T13:15:31.716054Z",
     "start_time": "2018-10-04T13:15:31.713926Z"
    },
    "colab_type": "text",
    "id": "1CiskeoZx-3X"
   },
   "source": [
    "## Main Part"
   ]
  },
  {
   "cell_type": "markdown",
   "metadata": {
    "colab_type": "text",
    "id": "tG_s5Ruax-3Y"
   },
   "source": [
    "### Import Dataset"
   ]
  },
  {
   "cell_type": "code",
   "execution_count": null,
   "metadata": {
    "colab": {
     "base_uri": "https://localhost:8080/",
     "height": 479
    },
    "colab_type": "code",
    "executionInfo": {
     "elapsed": 795,
     "status": "ok",
     "timestamp": 1596486694667,
     "user": {
      "displayName": "West Russ",
      "photoUrl": "",
      "userId": "05427756979758116502"
     },
     "user_tz": -60
    },
    "id": "iwxefsDrx-3b",
    "outputId": "f622dfc6-1275-45ef-c8fa-4245a3a95047"
   },
   "outputs": [],
   "source": [
    "batch_size = 1\n",
    "image_size = 128\n",
    "\n",
    "valid_data = utils.create_tfrecord_dataset_iterator(\n",
    "    \"test_2.tfrecords\", batch_size=batch_size, image_size=image_size\n",
    ")"
   ]
  },
  {
   "cell_type": "markdown",
   "metadata": {
    "colab_type": "text",
    "id": "Uq7sP8Z9x-4c"
   },
   "source": [
    "### Build Decoder Forward Flow"
   ]
  },
  {
   "cell_type": "code",
   "execution_count": null,
   "metadata": {
    "colab": {},
    "colab_type": "code",
    "executionInfo": {
     "elapsed": 362,
     "status": "ok",
     "timestamp": 1596486708048,
     "user": {
      "displayName": "West Russ",
      "photoUrl": "",
      "userId": "05427756979758116502"
     },
     "user_tz": -60
    },
    "id": "4veFVMC1x-43"
   },
   "outputs": [],
   "source": [
    "nn_template_fn = nets.OpenAITemplate(\n",
    "    width=128\n",
    ")"
   ]
  },
  {
   "cell_type": "code",
   "execution_count": null,
   "metadata": {},
   "outputs": [],
   "source": [
    "image = tf.placeholder(tf.float32, [1, image_size, image_size, 3])"
   ]
  },
  {
   "cell_type": "code",
   "execution_count": null,
   "metadata": {},
   "outputs": [],
   "source": [
    "layers, actnorm_layers = nets.create_simple_flow(\n",
    "    num_steps=32, \n",
    "    num_scales=5, \n",
    "    template_fn=nn_template_fn\n",
    ")\n",
    "\n",
    "flow = fl.InputLayer(image)\n",
    "model_flow = fl.ChainLayer(layers)\n",
    "output_flow = model_flow(flow, forward=True)"
   ]
  },
  {
   "cell_type": "markdown",
   "metadata": {},
   "source": [
    "### Read Stored Tensors"
   ]
  },
  {
   "cell_type": "code",
   "execution_count": null,
   "metadata": {
    "colab": {
     "base_uri": "https://localhost:8080/",
     "height": 1000
    },
    "colab_type": "code",
    "executionInfo": {
     "elapsed": 26982,
     "status": "ok",
     "timestamp": 1596486735115,
     "user": {
      "displayName": "West Russ",
      "photoUrl": "",
      "userId": "05427756979758116502"
     },
     "user_tz": -60
    },
    "id": "e2SBJimXx-5G",
    "outputId": "2d7b36a5-bdf4-4f7d-c64a-090ac7bd3d54",
    "scrolled": true
   },
   "outputs": [],
   "source": [
    "reader_a = tf.train.NewCheckpointReader(\"aux-saves/a.ckpt\")\n",
    "reader_b = tf.train.NewCheckpointReader(\"aux-saves/b.ckpt\")\n",
    "reader_c = tf.train.NewCheckpointReader(\"aux-saves/c.ckpt\")\n",
    "\n",
    "a = reader_a.get_tensor(\"a\")\n",
    "b = reader_b.get_tensor(\"b\")\n",
    "c = reader_c.get_tensor(\"c\")\n",
    "\n",
    "a_np = np.asarray(a, np.float32)\n",
    "b_np = np.asarray(b, np.float32)\n",
    "c_np = np.asarray(c, np.float32)\n",
    "\n",
    "data_a = tf.convert_to_tensor(a)\n",
    "data_b = tf.convert_to_tensor(b)\n",
    "data_c = tf.convert_to_tensor(c)\n",
    "decoder_input = data_a, data_b, data_c\n",
    "decoder_input"
   ]
  },
  {
   "cell_type": "code",
   "execution_count": null,
   "metadata": {},
   "outputs": [],
   "source": [
    "decoder_output = model_flow(decoder_input, forward=False)"
   ]
  },
  {
   "cell_type": "markdown",
   "metadata": {},
   "source": [
    "### Restore Weights"
   ]
  },
  {
   "cell_type": "code",
   "execution_count": null,
   "metadata": {},
   "outputs": [],
   "source": [
    "saver = tf.train.Saver()\n",
    "saver.restore(sess, \"t2-2-saves/steps.ckpt\")"
   ]
  },
  {
   "cell_type": "markdown",
   "metadata": {},
   "source": [
    "### Get Results"
   ]
  },
  {
   "cell_type": "code",
   "execution_count": null,
   "metadata": {},
   "outputs": [],
   "source": [
    "xx, yy, zz = decoder_output"
   ]
  },
  {
   "cell_type": "markdown",
   "metadata": {},
   "source": [
    "### Choose Proper ROI after Plotting Out"
   ]
  },
  {
   "cell_type": "code",
   "execution_count": null,
   "metadata": {},
   "outputs": [],
   "source": [
    "x_exampled = xx.eval()\n",
    "plt.imshow(x_exampled[0,0:128,0:128,:])"
   ]
  },
  {
   "cell_type": "code",
   "execution_count": null,
   "metadata": {},
   "outputs": [],
   "source": [
    "print(x_exampled[0,:,:,0].shape)\n",
    "print(valid_data.eval()[0,:,:,0].shape)"
   ]
  },
  {
   "cell_type": "markdown",
   "metadata": {},
   "source": [
    "### Dice"
   ]
  },
  {
   "cell_type": "code",
   "execution_count": null,
   "metadata": {},
   "outputs": [],
   "source": [
    "from scipy.spatial import distance\n",
    "test_unwrapped = tf.reshape(x_exampled[:,:,:,2], [-1])\n",
    "valid_unwrapped = tf.reshape(valid_data.eval()[:,:,:,2], [-1])\n",
    "\n",
    "distance.dice(test_unwrapped.eval(), valid_unwrapped.eval())"
   ]
  },
  {
   "cell_type": "code",
   "execution_count": null,
   "metadata": {},
   "outputs": [],
   "source": []
  }
 ],
 "metadata": {
  "accelerator": "GPU",
  "colab": {
   "collapsed_sections": [],
   "name": "bi-flow.ipynb",
   "provenance": []
  },
  "kernelspec": {
   "display_name": "py_test_env",
   "language": "python",
   "name": "py_test_env"
  },
  "language_info": {
   "codemirror_mode": {
    "name": "ipython",
    "version": 3
   },
   "file_extension": ".py",
   "mimetype": "text/x-python",
   "name": "python",
   "nbconvert_exporter": "python",
   "pygments_lexer": "ipython3",
   "version": "3.7.0"
  },
  "toc": {
   "colors": {
    "hover_highlight": "#DAA520",
    "navigate_num": "#000000",
    "navigate_text": "#333333",
    "running_highlight": "#FF0000",
    "selected_highlight": "#FFD700",
    "sidebar_border": "#EEEEEE",
    "wrapper_background": "#FFFFFF"
   },
   "moveMenuLeft": true,
   "nav_menu": {
    "height": "512px",
    "width": "252px"
   },
   "navigate_menu": true,
   "number_sections": true,
   "sideBar": true,
   "threshold": 4,
   "toc_cell": false,
   "toc_section_display": "block",
   "toc_window_display": true,
   "widenNotebook": false
  },
  "varInspector": {
   "cols": {
    "lenName": 16,
    "lenType": 16,
    "lenVar": 40
   },
   "kernels_config": {
    "python": {
     "delete_cmd_postfix": "",
     "delete_cmd_prefix": "del ",
     "library": "var_list.py",
     "varRefreshCmd": "print(var_dic_list())"
    },
    "r": {
     "delete_cmd_postfix": ") ",
     "delete_cmd_prefix": "rm(",
     "library": "var_list.r",
     "varRefreshCmd": "cat(var_dic_list()) "
    }
   },
   "types_to_exclude": [
    "module",
    "function",
    "builtin_function_or_method",
    "instance",
    "_Feature"
   ],
   "window_display": false
  }
 },
 "nbformat": 4,
 "nbformat_minor": 1
}
