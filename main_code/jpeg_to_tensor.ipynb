{
 "cells": [
  {
   "cell_type": "markdown",
   "metadata": {
    "colab_type": "text",
    "id": "r_H3toxOx-z_"
   },
   "source": [
    "## Preparations\n",
    "* TensorFlow version == 1.x required\n",
    "* Gast version == 0.2.x, TensorFlow-Gan version == 1.x required"
   ]
  },
  {
   "cell_type": "code",
   "execution_count": null,
   "metadata": {
    "colab": {},
    "colab_type": "code",
    "executionInfo": {
     "elapsed": 477,
     "status": "ok",
     "timestamp": 1596486672444,
     "user": {
      "displayName": "West Russ",
      "photoUrl": "",
      "userId": "05427756979758116502"
     },
     "user_tz": -60
    },
    "id": "HYLr13jWx-1L"
   },
   "outputs": [],
   "source": [
    "import os\n",
    "os.environ[\"CUDA_VISIBLE_DEVICES\"] = \"0\""
   ]
  },
  {
   "cell_type": "code",
   "execution_count": null,
   "metadata": {
    "colab": {
     "base_uri": "https://localhost:8080/",
     "height": 34
    },
    "colab_type": "code",
    "executionInfo": {
     "elapsed": 8546,
     "status": "ok",
     "timestamp": 1596486680842,
     "user": {
      "displayName": "West Russ",
      "photoUrl": "",
      "userId": "05427756979758116502"
     },
     "user_tz": -60
    },
    "id": "6DqbZ_kRx-2Q",
    "outputId": "9aac6c72-bdfe-4922-9357-e1a85e4b56fe"
   },
   "outputs": [],
   "source": [
    "import numpy as np\n",
    "import tensorflow as tf\n",
    "from tensorflow.python.ops import io_ops\n",
    "from scipy.stats import norm\n",
    "import matplotlib.pyplot as plt\n",
    "from PIL import Image\n",
    "from numpy import asarray\n",
    "from matplotlib import image\n",
    "from matplotlib import pyplot\n",
    "tfd = tf.contrib.distributions\n",
    "\n",
    "%matplotlib inline\n",
    "%load_ext autoreload\n",
    "%autoreload 2"
   ]
  },
  {
   "cell_type": "code",
   "execution_count": null,
   "metadata": {
    "colab": {
     "base_uri": "https://localhost:8080/",
     "height": 476
    },
    "colab_type": "code",
    "executionInfo": {
     "elapsed": 9723,
     "status": "ok",
     "timestamp": 1596486682839,
     "user": {
      "displayName": "West Russ",
      "photoUrl": "",
      "userId": "05427756979758116502"
     },
     "user_tz": -60
    },
    "id": "wovB_quBx-2m",
    "outputId": "0a771cab-a46e-43e5-b228-330bcfb124d5"
   },
   "outputs": [],
   "source": [
    "from tensorflow.python.client import device_lib\n",
    "device_lib.list_local_devices()"
   ]
  },
  {
   "cell_type": "code",
   "execution_count": null,
   "metadata": {
    "colab": {
     "base_uri": "https://localhost:8080/",
     "height": 241
    },
    "colab_type": "code",
    "executionInfo": {
     "elapsed": 14362,
     "status": "ok",
     "timestamp": 1596486689360,
     "user": {
      "displayName": "West Russ",
      "photoUrl": "",
      "userId": "05427756979758116502"
     },
     "user_tz": -60
    },
    "id": "ea7B8S5Hx-3E",
    "outputId": "c6b70d4f-238b-4e31-99f9-34a97366f03b"
   },
   "outputs": [],
   "source": [
    "import utils\n",
    "import nets\n",
    "import flow_layers as fl"
   ]
  },
  {
   "cell_type": "code",
   "execution_count": null,
   "metadata": {
    "colab": {
     "base_uri": "https://localhost:8080/",
     "height": 34
    },
    "colab_type": "code",
    "executionInfo": {
     "elapsed": 13573,
     "status": "ok",
     "timestamp": 1596486689361,
     "user": {
      "displayName": "West Russ",
      "photoUrl": "",
      "userId": "05427756979758116502"
     },
     "user_tz": -60
    },
    "id": "9omZ-zg-x-3K",
    "outputId": "1966100a-c209-47ed-f12e-a051bb11833d"
   },
   "outputs": [],
   "source": [
    "print(tf.__version__)"
   ]
  },
  {
   "cell_type": "code",
   "execution_count": null,
   "metadata": {
    "colab": {},
    "colab_type": "code",
    "executionInfo": {
     "elapsed": 12729,
     "status": "ok",
     "timestamp": 1596486689362,
     "user": {
      "displayName": "West Russ",
      "photoUrl": "",
      "userId": "05427756979758116502"
     },
     "user_tz": -60
    },
    "id": "EHcGhRArx-3Q"
   },
   "outputs": [],
   "source": [
    "config = tf.ConfigProto()\n",
    "config.allow_soft_placement=True\n",
    "config.gpu_options.allow_growth = True\n",
    "tf.set_random_seed(0)\n",
    "sess = tf.InteractiveSession(config=config)"
   ]
  },
  {
   "cell_type": "markdown",
   "metadata": {},
   "source": [
    "## Main Part"
   ]
  },
  {
   "cell_type": "markdown",
   "metadata": {},
   "source": [
    "### Convert baseline to tensor"
   ]
  },
  {
   "cell_type": "code",
   "execution_count": null,
   "metadata": {},
   "outputs": [],
   "source": [
    "for i in range(1,3):\n",
    "    img = Image.open(\"test_t1/\" + str(i) + \".jpg\")\n",
    "    data = asarray(img)\n",
    "    data = data[0:128, 0:128, :]\n",
    "    # This step is really important, always use dtype=float32 input to the model\n",
    "    data = tf.image.convert_image_dtype(data, dtype=tf.float32)\n",
    "\n",
    "    save_op = io_ops._save(filename=\"aux-saves-1/\" + str(i) + \".ckpt\", tensor_names=[str(i)],\n",
    "                           tensors=[data])\n",
    "    sess.run(save_op)"
   ]
  },
  {
   "cell_type": "markdown",
   "metadata": {},
   "source": [
    "### Convert follow-up to tensor"
   ]
  },
  {
   "cell_type": "code",
   "execution_count": null,
   "metadata": {},
   "outputs": [],
   "source": [
    "for i in range(1,3):\n",
    "    img = Image.open(\"test_t2/\" + str(i) + \".jpg\")\n",
    "    data = asarray(img)\n",
    "    data = data[0:128, 0:128, :]\n",
    "    data = tf.image.convert_image_dtype(data, dtype=tf.float32)\n",
    "\n",
    "    save_op = io_ops._save(filename=\"aux-saves-2/\" + str(i) + \".ckpt\", tensor_names=[str(i)],\n",
    "                           tensors=[data])\n",
    "    sess.run(save_op)"
   ]
  },
  {
   "cell_type": "markdown",
   "metadata": {},
   "source": [
    "### Check Tensor"
   ]
  },
  {
   "cell_type": "code",
   "execution_count": null,
   "metadata": {},
   "outputs": [],
   "source": [
    "tensor_reader = tf.train.NewCheckpointReader(\"aux-saves/\" + str(i) + \".ckpt\")\n",
    "tmp = tensor_reader.get_tensor(str(i))\n",
    "image = tf.convert_to_tensor(tmp)"
   ]
  },
  {
   "cell_type": "code",
   "execution_count": null,
   "metadata": {},
   "outputs": [],
   "source": [
    "image.eval().shape"
   ]
  },
  {
   "cell_type": "code",
   "execution_count": null,
   "metadata": {},
   "outputs": [],
   "source": [
    "x_exampled = image.eval()\n",
    "plt.imshow(x_exampled)"
   ]
  }
 ],
 "metadata": {
  "accelerator": "GPU",
  "colab": {
   "collapsed_sections": [],
   "name": "bi-flow.ipynb",
   "provenance": []
  },
  "kernelspec": {
   "display_name": "py_test_env",
   "language": "python",
   "name": "py_test_env"
  },
  "language_info": {
   "codemirror_mode": {
    "name": "ipython",
    "version": 3
   },
   "file_extension": ".py",
   "mimetype": "text/x-python",
   "name": "python",
   "nbconvert_exporter": "python",
   "pygments_lexer": "ipython3",
   "version": "3.7.0"
  },
  "toc": {
   "colors": {
    "hover_highlight": "#DAA520",
    "navigate_num": "#000000",
    "navigate_text": "#333333",
    "running_highlight": "#FF0000",
    "selected_highlight": "#FFD700",
    "sidebar_border": "#EEEEEE",
    "wrapper_background": "#FFFFFF"
   },
   "moveMenuLeft": true,
   "nav_menu": {
    "height": "512px",
    "width": "252px"
   },
   "navigate_menu": true,
   "number_sections": true,
   "sideBar": true,
   "threshold": 4,
   "toc_cell": false,
   "toc_section_display": "block",
   "toc_window_display": true,
   "widenNotebook": false
  },
  "varInspector": {
   "cols": {
    "lenName": 16,
    "lenType": 16,
    "lenVar": 40
   },
   "kernels_config": {
    "python": {
     "delete_cmd_postfix": "",
     "delete_cmd_prefix": "del ",
     "library": "var_list.py",
     "varRefreshCmd": "print(var_dic_list())"
    },
    "r": {
     "delete_cmd_postfix": ") ",
     "delete_cmd_prefix": "rm(",
     "library": "var_list.r",
     "varRefreshCmd": "cat(var_dic_list()) "
    }
   },
   "types_to_exclude": [
    "module",
    "function",
    "builtin_function_or_method",
    "instance",
    "_Feature"
   ],
   "window_display": false
  }
 },
 "nbformat": 4,
 "nbformat_minor": 1
}