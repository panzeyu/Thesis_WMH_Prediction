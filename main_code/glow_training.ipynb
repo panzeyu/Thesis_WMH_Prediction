{
 "cells": [
  {
   "cell_type": "markdown",
   "metadata": {},
   "source": [
    "# Training of Glows"
   ]
  },
  {
   "cell_type": "markdown",
   "metadata": {},
   "source": [
    "## Preparations\n",
    "* TensorFlow version == 1.x required\n",
    "* Gast version == 0.2.x, TensorFlow-Gan version == 1.x required\n",
    "* First few lines of code are for running on Google Colab"
   ]
  },
  {
   "cell_type": "code",
   "execution_count": null,
   "metadata": {
    "colab": {},
    "colab_type": "code",
    "executionInfo": {
     "elapsed": 426,
     "status": "ok",
     "timestamp": 1595251259278,
     "user": {
      "displayName": "West Russ",
      "photoUrl": "",
      "userId": "05427756979758116502"
     },
     "user_tz": -60
    },
    "id": "66K4GRKt2ZIw"
   },
   "outputs": [],
   "source": [
    "import os\n",
    "os.environ[\"CUDA_VISIBLE_DEVICES\"] = \"0\""
   ]
  },
  {
   "cell_type": "code",
   "execution_count": null,
   "metadata": {
    "colab": {
     "base_uri": "https://localhost:8080/",
     "height": 34
    },
    "colab_type": "code",
    "executionInfo": {
     "elapsed": 7805,
     "status": "ok",
     "timestamp": 1595251267595,
     "user": {
      "displayName": "West Russ",
      "photoUrl": "",
      "userId": "05427756979758116502"
     },
     "user_tz": -60
    },
    "id": "eRnY9RHq2AxY",
    "outputId": "a2334f7a-f10c-4e16-df0d-b3b04f3d3beb"
   },
   "outputs": [],
   "source": [
    "import numpy as np\n",
    "import tensorflow as tf\n",
    "from scipy.stats import norm\n",
    "import matplotlib.pyplot as plt\n",
    "tfd = tf.contrib.distributions\n",
    "\n",
    "%matplotlib inline\n",
    "%load_ext autoreload\n",
    "%autoreload 2"
   ]
  },
  {
   "cell_type": "code",
   "execution_count": null,
   "metadata": {
    "colab": {
     "base_uri": "https://localhost:8080/",
     "height": 476
    },
    "colab_type": "code",
    "executionInfo": {
     "elapsed": 1939,
     "status": "ok",
     "timestamp": 1595251273774,
     "user": {
      "displayName": "West Russ",
      "photoUrl": "",
      "userId": "05427756979758116502"
     },
     "user_tz": -60
    },
    "id": "6rXMj2c37ZVv",
    "outputId": "be1ed88a-6695-49f6-e2e8-ec5d745ef781"
   },
   "outputs": [],
   "source": [
    "from tensorflow.python.client import device_lib\n",
    "device_lib.list_local_devices()"
   ]
  },
  {
   "cell_type": "code",
   "execution_count": null,
   "metadata": {
    "colab": {
     "base_uri": "https://localhost:8080/",
     "height": 241
    },
    "colab_type": "code",
    "executionInfo": {
     "elapsed": 2178,
     "status": "ok",
     "timestamp": 1595251283406,
     "user": {
      "displayName": "West Russ",
      "photoUrl": "",
      "userId": "05427756979758116502"
     },
     "user_tz": -60
    },
    "id": "Yp0OVNO9NttJ",
    "outputId": "cddb243d-b14f-4793-af5d-2fd3ace3ec1d"
   },
   "outputs": [],
   "source": [
    "import utils\n",
    "import nets\n",
    "import flow_layers as fl"
   ]
  },
  {
   "cell_type": "code",
   "execution_count": null,
   "metadata": {},
   "outputs": [],
   "source": [
    "print(tf.__version__)"
   ]
  },
  {
   "cell_type": "code",
   "execution_count": null,
   "metadata": {},
   "outputs": [],
   "source": [
    "config = tf.ConfigProto()\n",
    "config.allow_soft_placement=True\n",
    "config.gpu_options.allow_growth = True\n",
    "tf.set_random_seed(0)\n",
    "sess = tf.InteractiveSession(config=config)"
   ]
  },
  {
   "cell_type": "markdown",
   "metadata": {
    "ExecuteTime": {
     "end_time": "2018-10-04T13:15:31.716054Z",
     "start_time": "2018-10-04T13:15:31.713926Z"
    },
    "colab_type": "text",
    "id": "h6wRwZTJ2Axu"
   },
   "source": [
    "## Model Structuring"
   ]
  },
  {
   "cell_type": "markdown",
   "metadata": {},
   "source": [
    "### Import Datasets \n",
    "* Default resolution set to 256 in utils\n",
    "* Any lower resolution entered triggers down-sampling"
   ]
  },
  {
   "cell_type": "code",
   "execution_count": null,
   "metadata": {
    "colab": {
     "base_uri": "https://localhost:8080/",
     "height": 530
    },
    "colab_type": "code",
    "executionInfo": {
     "elapsed": 868,
     "status": "ok",
     "timestamp": 1595251289072,
     "user": {
      "displayName": "West Russ",
      "photoUrl": "",
      "userId": "05427756979758116502"
     },
     "user_tz": -60
    },
    "id": "LGbMej9v2Axv",
    "outputId": "031e7199-e75d-45f7-a551-a8c62406dfd7"
   },
   "outputs": [],
   "source": [
    "batch_size = 8\n",
    "image_size = 128\n",
    "x_train_samples = utils.create_tfrecord_dataset_iterator(\n",
    "    \"train.tfrecords\", batch_size=batch_size, image_size=image_size\n",
    ")\n",
    "x_valid_samples = utils.create_tfrecord_dataset_iterator(\n",
    "    \"valid.tfrecords\", batch_size=batch_size, image_size=image_size\n",
    ")"
   ]
  },
  {
   "cell_type": "markdown",
   "metadata": {
    "colab_type": "text",
    "id": "8FpeuU0n2Ax1"
   },
   "source": [
    "### Check Shapes\n",
    "* Input tensor of $[$batch_size, $h, w, c]$ expected\n",
    "* In this setup should be $[$8, 256, 256, 3$]$"
   ]
  },
  {
   "cell_type": "code",
   "execution_count": null,
   "metadata": {
    "colab": {},
    "colab_type": "code",
    "id": "f5HahGTP2Ax8"
   },
   "outputs": [],
   "source": [
    "x_valid_samples.eval().shape"
   ]
  },
  {
   "cell_type": "code",
   "execution_count": null,
   "metadata": {
    "colab": {},
    "colab_type": "code",
    "id": "EqU4uS8g2AyB"
   },
   "outputs": [],
   "source": [
    "x_exampled = x_valid_samples.eval()"
   ]
  },
  {
   "cell_type": "code",
   "execution_count": null,
   "metadata": {
    "colab": {},
    "colab_type": "code",
    "id": "8-pzfAw-2AyH",
    "scrolled": true
   },
   "outputs": [],
   "source": [
    "plt.imshow(utils.plot_grid(x_valid_samples).eval())"
   ]
  },
  {
   "cell_type": "code",
   "execution_count": null,
   "metadata": {
    "colab": {
     "base_uri": "https://localhost:8080/",
     "height": 34
    },
    "colab_type": "code",
    "executionInfo": {
     "elapsed": 2643,
     "status": "ok",
     "timestamp": 1594992999061,
     "user": {
      "displayName": "West Russ",
      "photoUrl": "",
      "userId": "05427756979758116502"
     },
     "user_tz": -60
    },
    "id": "xAD2iXSO2AyN",
    "outputId": "a8f9d7e0-4bc2-4111-f9da-f3cd15a18d9a"
   },
   "outputs": [],
   "source": [
    "# benchmark dataset reading\n",
    "%timeit -n 100 x_valid_samples.eval()"
   ]
  },
  {
   "cell_type": "markdown",
   "metadata": {
    "colab_type": "text",
    "id": "ss4dGVUa2AyR"
   },
   "source": [
    "### Build Forward Flow\n",
    "* Please refer to Implementation in report for reference\n",
    "* Scale down accordingly depending on compute power"
   ]
  },
  {
   "cell_type": "code",
   "execution_count": null,
   "metadata": {
    "colab": {},
    "colab_type": "code",
    "id": "-PRlgVeo2AyS"
   },
   "outputs": [],
   "source": [
    "nn_template_fn = nets.OpenAITemplate(\n",
    "    width=128\n",
    ")"
   ]
  },
  {
   "cell_type": "code",
   "execution_count": null,
   "metadata": {
    "colab": {
     "base_uri": "https://localhost:8080/",
     "height": 1000
    },
    "colab_type": "code",
    "executionInfo": {
     "elapsed": 14077,
     "status": "ok",
     "timestamp": 1594993020465,
     "user": {
      "displayName": "West Russ",
      "photoUrl": "",
      "userId": "05427756979758116502"
     },
     "user_tz": -60
    },
    "id": "WrzNDs412AyW",
    "outputId": "e5692243-c411-47be-bfd0-02b8d3cb26cb",
    "scrolled": true
   },
   "outputs": [],
   "source": [
    "layers, actnorm_layers = nets.create_simple_flow(\n",
    "    num_steps=32, \n",
    "    num_scales=5, \n",
    "    template_fn=nn_template_fn\n",
    ")\n",
    "\n",
    "images = x_train_samples\n",
    "flow = fl.InputLayer(images)\n",
    "model_flow = fl.ChainLayer(layers)\n",
    "output_flow = model_flow(flow, forward=True)"
   ]
  },
  {
   "cell_type": "markdown",
   "metadata": {
    "colab_type": "text",
    "id": "EKfOefBk2Ayc"
   },
   "source": [
    "### Output Tensors"
   ]
  },
  {
   "cell_type": "code",
   "execution_count": null,
   "metadata": {
    "colab": {
     "base_uri": "https://localhost:8080/",
     "height": 68
    },
    "colab_type": "code",
    "executionInfo": {
     "elapsed": 871,
     "status": "ok",
     "timestamp": 1594993026257,
     "user": {
      "displayName": "West Russ",
      "photoUrl": "",
      "userId": "05427756979758116502"
     },
     "user_tz": -60
    },
    "id": "oQQXoomK2Ayd",
    "outputId": "10587920-91df-4e00-91fa-b5a0d497ee9f"
   },
   "outputs": [],
   "source": [
    "y, logdet, z = output_flow\n",
    "output_flow"
   ]
  },
  {
   "cell_type": "markdown",
   "metadata": {
    "colab_type": "text",
    "id": "_EGcgOmk2Ayi"
   },
   "source": [
    "### Loss Function\n",
    "\n",
    "* $x$ partitioned into $y$, $z$ by affine coupling layers\n",
    "* Total loss = log $p(x) + L_2$ loss"
   ]
  },
  {
   "cell_type": "code",
   "execution_count": null,
   "metadata": {
    "colab": {
     "base_uri": "https://localhost:8080/",
     "height": 394
    },
    "colab_type": "code",
    "executionInfo": {
     "elapsed": 608,
     "status": "ok",
     "timestamp": 1594993032608,
     "user": {
      "displayName": "West Russ",
      "photoUrl": "",
      "userId": "05427756979758116502"
     },
     "user_tz": -60
    },
    "id": "Js8YjlNk2Ayj",
    "outputId": "b67d7eb3-d81d-42c0-978c-3216c58e11c9"
   },
   "outputs": [],
   "source": [
    "beta_ph = tf.placeholder(tf.float32, [])\n",
    "\n",
    "y_flatten = tf.reshape(y, [batch_size, -1])\n",
    "z_flatten = tf.reshape(z, [batch_size, -1])\n",
    "\n",
    "prior_y = tfd.MultivariateNormalDiag(loc=tf.zeros_like(y_flatten), scale_diag=beta_ph * tf.ones_like(y_flatten))\n",
    "prior_z = tfd.MultivariateNormalDiag(loc=tf.zeros_like(z_flatten), scale_diag=beta_ph * tf.ones_like(z_flatten))\n",
    "\n",
    "log_prob_y =  prior_y.log_prob(y_flatten)\n",
    "log_prob_z =  prior_z.log_prob(z_flatten)"
   ]
  },
  {
   "cell_type": "markdown",
   "metadata": {
    "colab": {},
    "colab_type": "code",
    "id": "Om3F7vGE2Ays"
   },
   "source": [
    "* Main loss"
   ]
  },
  {
   "cell_type": "code",
   "execution_count": null,
   "metadata": {},
   "outputs": [],
   "source": [
    "loss = log_prob_y + log_prob_z + logdet\n",
    "loss = - tf.reduce_mean(loss)"
   ]
  },
  {
   "cell_type": "markdown",
   "metadata": {
    "colab_type": "text",
    "id": "-a9611vB2Ayx"
   },
   "source": [
    "* $L_2$ Regularization Loss "
   ]
  },
  {
   "cell_type": "code",
   "execution_count": null,
   "metadata": {
    "colab": {},
    "colab_type": "code",
    "id": "Ogm-OPed2Ayy"
   },
   "outputs": [],
   "source": [
    "trainable_variables = tf.trainable_variables() \n",
    "l2_reg = 0.00001 \n",
    "l2_loss = l2_reg * tf.add_n([ tf.nn.l2_loss(v) for v in trainable_variables])"
   ]
  },
  {
   "cell_type": "markdown",
   "metadata": {
    "colab_type": "text",
    "id": "m6oNpXdA2Ay3"
   },
   "source": [
    "### Print Trainable Variables "
   ]
  },
  {
   "cell_type": "code",
   "execution_count": null,
   "metadata": {
    "colab": {
     "base_uri": "https://localhost:8080/",
     "height": 34
    },
    "colab_type": "code",
    "executionInfo": {
     "elapsed": 394,
     "status": "ok",
     "timestamp": 1594993057261,
     "user": {
      "displayName": "West Russ",
      "photoUrl": "",
      "userId": "05427756979758116502"
     },
     "user_tz": -60
    },
    "id": "QMhqC6AZ2Ay4",
    "outputId": "29307a9f-0623-4602-9866-ce222940f7c5"
   },
   "outputs": [],
   "source": [
    "total_params = 0\n",
    "for k, v in enumerate(trainable_variables):\n",
    "    num_params = np.prod(v.shape.as_list())\n",
    "    total_params += num_params\n",
    "#     print(f\"[{k:4}][{num_params:6}] {v.op.name[:96]}\")\n",
    "\n",
    "print(f\"total_params: {total_params/1e6} M\")"
   ]
  },
  {
   "cell_type": "markdown",
   "metadata": {
    "colab_type": "text",
    "id": "gN8Mddkf2Ay8"
   },
   "source": [
    "### Total Loss"
   ]
  },
  {
   "cell_type": "code",
   "execution_count": null,
   "metadata": {
    "colab": {},
    "colab_type": "code",
    "id": "geDPBiA72Ay9"
   },
   "outputs": [],
   "source": [
    "sess.run(tf.global_variables_initializer())"
   ]
  },
  {
   "cell_type": "code",
   "execution_count": null,
   "metadata": {
    "colab": {},
    "colab_type": "code",
    "id": "s4Ja6sE52AzB"
   },
   "outputs": [],
   "source": [
    "loss_per_pixel = loss / image_size / image_size  "
   ]
  },
  {
   "cell_type": "code",
   "execution_count": null,
   "metadata": {
    "colab": {},
    "colab_type": "code",
    "id": "HP2RsxUQ2AzF"
   },
   "outputs": [],
   "source": [
    "total_loss = l2_loss + loss_per_pixel "
   ]
  },
  {
   "cell_type": "code",
   "execution_count": null,
   "metadata": {
    "colab": {
     "base_uri": "https://localhost:8080/",
     "height": 34
    },
    "colab_type": "code",
    "executionInfo": {
     "elapsed": 11229,
     "status": "ok",
     "timestamp": 1594993078880,
     "user": {
      "displayName": "West Russ",
      "photoUrl": "",
      "userId": "05427756979758116502"
     },
     "user_tz": -60
    },
    "id": "JQUchtlV2AzJ",
    "outputId": "e943859d-137d-4c6e-b297-6855f90a0c6d"
   },
   "outputs": [],
   "source": [
    "l2_loss.eval(feed_dict={beta_ph: 1.0}), loss_per_pixel.eval(feed_dict={beta_ph: 1.0})"
   ]
  },
  {
   "cell_type": "markdown",
   "metadata": {
    "colab_type": "text",
    "id": "audSyoep2AzO"
   },
   "source": [
    "### Build Backward Flow"
   ]
  },
  {
   "cell_type": "code",
   "execution_count": null,
   "metadata": {
    "colab": {},
    "colab_type": "code",
    "id": "igUNaXxf2AzO"
   },
   "outputs": [],
   "source": [
    "sample_y_flatten = prior_y.sample()\n",
    "sample_y = tf.reshape(sample_y_flatten, y.shape.as_list())\n",
    "sample_z = tf.reshape(prior_z.sample(), z.shape.as_list())\n",
    "sampled_logdet = prior_y.log_prob(sample_y_flatten)"
   ]
  },
  {
   "cell_type": "code",
   "execution_count": null,
   "metadata": {
    "colab": {
     "base_uri": "https://localhost:8080/",
     "height": 1000
    },
    "colab_type": "code",
    "executionInfo": {
     "elapsed": 5654,
     "status": "ok",
     "timestamp": 1594993087882,
     "user": {
      "displayName": "West Russ",
      "photoUrl": "",
      "userId": "05427756979758116502"
     },
     "user_tz": -60
    },
    "id": "b3mHyCqg2AzT",
    "outputId": "5a9cd219-6504-4bf4-9182-f36f560dce0d",
    "scrolled": true
   },
   "outputs": [],
   "source": [
    "inverse_flow = sample_y, sampled_logdet, sample_z\n",
    "sampled_flow = model_flow(inverse_flow, forward=False)"
   ]
  },
  {
   "cell_type": "code",
   "execution_count": null,
   "metadata": {
    "colab": {
     "base_uri": "https://localhost:8080/",
     "height": 34
    },
    "colab_type": "code",
    "executionInfo": {
     "elapsed": 1007,
     "status": "ok",
     "timestamp": 1594993100537,
     "user": {
      "displayName": "West Russ",
      "photoUrl": "",
      "userId": "05427756979758116502"
     },
     "user_tz": -60
    },
    "id": "vbhVWMzG2AzX",
    "outputId": "1fdd0ba5-3650-4813-f3e4-640ed4e859e7"
   },
   "outputs": [],
   "source": [
    "total_params = 0\n",
    "for k, v in enumerate(trainable_variables):\n",
    "    num_params = np.prod(v.shape.as_list())\n",
    "    total_params += num_params\n",
    "print(f\"total_params: {total_params/1e6} M\")"
   ]
  },
  {
   "cell_type": "code",
   "execution_count": null,
   "metadata": {
    "colab": {},
    "colab_type": "code",
    "id": "l4dq2O2R2Azb"
   },
   "outputs": [],
   "source": [
    "x_flow_sampled, _, _ = sampled_flow"
   ]
  },
  {
   "cell_type": "code",
   "execution_count": null,
   "metadata": {
    "colab": {
     "base_uri": "https://localhost:8080/",
     "height": 34
    },
    "colab_type": "code",
    "executionInfo": {
     "elapsed": 5260,
     "status": "ok",
     "timestamp": 1594993113234,
     "user": {
      "displayName": "West Russ",
      "photoUrl": "",
      "userId": "05427756979758116502"
     },
     "user_tz": -60
    },
    "id": "u13AVaVg2Aze",
    "outputId": "73e74dc1-ae1f-4080-9954-6f292327efc9"
   },
   "outputs": [],
   "source": [
    "x_flow_sampled.eval({beta_ph: 1.0}).shape"
   ]
  },
  {
   "cell_type": "markdown",
   "metadata": {
    "colab_type": "text",
    "id": "Q-lChHX22Azi"
   },
   "source": [
    "## Model Training\n",
    "### Optimizer & Learning Rate"
   ]
  },
  {
   "cell_type": "code",
   "execution_count": null,
   "metadata": {
    "colab": {},
    "colab_type": "code",
    "id": "lUOgaVj32Azi"
   },
   "outputs": [],
   "source": [
    "lr_ph = tf.placeholder(tf.float32)\n",
    "optimizer = tf.train.AdamOptimizer(lr_ph)\n",
    "train_op = optimizer.minimize(total_loss)"
   ]
  },
  {
   "cell_type": "markdown",
   "metadata": {
    "colab_type": "text",
    "id": "tWIzqxA72Azm"
   },
   "source": [
    "### DDI of Actnorms"
   ]
  },
  {
   "cell_type": "code",
   "execution_count": null,
   "metadata": {
    "colab": {
     "base_uri": "https://localhost:8080/",
     "height": 173
    },
    "colab_type": "code",
    "executionInfo": {
     "elapsed": 99915,
     "status": "ok",
     "timestamp": 1594993293174,
     "user": {
      "displayName": "West Russ",
      "photoUrl": "",
      "userId": "05427756979758116502"
     },
     "user_tz": -60
    },
    "id": "OQCM8P6Y2Azn",
    "outputId": "027ed773-eac3-4cdd-f953-84b3951d44c5",
    "scrolled": true
   },
   "outputs": [],
   "source": [
    "sess.run(tf.global_variables_initializer())\n",
    "nets.initialize_actnorms(\n",
    "    sess,\n",
    "    feed_dict_fn=lambda: {beta_ph: 1.0},\n",
    "    actnorm_layers=actnorm_layers,\n",
    "    num_steps=10,\n",
    ")"
   ]
  },
  {
   "cell_type": "markdown",
   "metadata": {},
   "source": [
    "### Save First"
   ]
  },
  {
   "cell_type": "code",
   "execution_count": null,
   "metadata": {},
   "outputs": [],
   "source": [
    "saver = tf.train.Saver()\n",
    "save_path = saver.save(sess, \"t1-4-saves/steps.ckpt\")\n",
    "print(\"Model saved in path: %s\" % save_path)"
   ]
  },
  {
   "cell_type": "markdown",
   "metadata": {
    "colab_type": "text",
    "id": "c7hlirkw2Azr"
   },
   "source": [
    "### Metrics & Trainer"
   ]
  },
  {
   "cell_type": "code",
   "execution_count": null,
   "metadata": {
    "colab": {},
    "colab_type": "code",
    "id": "gQZG22dU2Azs"
   },
   "outputs": [],
   "source": [
    "metrics = utils.Metrics(50, metrics_tensors={\"total_loss\": total_loss, \"loss_per_pixel\": loss_per_pixel, \"l2_loss\": l2_loss})\n",
    "plot_metrics_hook = utils.PlotMetricsHook(metrics, step=1000)"
   ]
  },
  {
   "cell_type": "code",
   "execution_count": null,
   "metadata": {
    "colab": {},
    "colab_type": "code",
    "id": "nFSj7ENU2Azw"
   },
   "outputs": [],
   "source": [
    "sess.run(train_op, feed_dict={lr_ph: 0.0, beta_ph: 1.0})"
   ]
  },
  {
   "cell_type": "code",
   "execution_count": null,
   "metadata": {
    "colab": {
     "base_uri": "https://localhost:8080/",
     "height": 34
    },
    "colab_type": "code",
    "executionInfo": {
     "elapsed": 3288,
     "status": "ok",
     "timestamp": 1594993342727,
     "user": {
      "displayName": "West Russ",
      "photoUrl": "",
      "userId": "05427756979758116502"
     },
     "user_tz": -60
    },
    "id": "UJdblKb32Azz",
    "outputId": "e4fccca5-a46d-462a-fbb0-f075de584e76"
   },
   "outputs": [],
   "source": [
    "total_loss.eval(feed_dict={lr_ph: 0.0, beta_ph: 1.0})"
   ]
  },
  {
   "cell_type": "markdown",
   "metadata": {
    "colab_type": "text",
    "id": "-8HNcXFH2Az2"
   },
   "source": [
    "### Check Initial Samples"
   ]
  },
  {
   "cell_type": "code",
   "execution_count": null,
   "metadata": {
    "colab": {},
    "colab_type": "code",
    "id": "RGzq4wzX2Az3"
   },
   "outputs": [],
   "source": [
    "quantize_image_layer = layers[0]\n",
    "aux_feed_dict = {lr_ph: 0.0, beta_ph: 1.0}"
   ]
  },
  {
   "cell_type": "code",
   "execution_count": null,
   "metadata": {
    "colab": {
     "base_uri": "https://localhost:8080/",
     "height": 286
    },
    "colab_type": "code",
    "executionInfo": {
     "elapsed": 3428,
     "status": "ok",
     "timestamp": 1594993360176,
     "user": {
      "displayName": "West Russ",
      "photoUrl": "",
      "userId": "05427756979758116502"
     },
     "user_tz": -60
    },
    "id": "ZeF56IoB2Az6",
    "outputId": "0d2f3e80-51ce-4c66-a1eb-acd4ef77b998"
   },
   "outputs": [],
   "source": [
    "x_flow_sampled_uint = quantize_image_layer.to_uint8(x_flow_sampled)\n",
    "plt.imshow(utils.plot_grid(x_flow_sampled_uint).eval(aux_feed_dict))"
   ]
  },
  {
   "cell_type": "markdown",
   "metadata": {
    "colab_type": "text",
    "id": "Uyo7MR1p2Az9"
   },
   "source": [
    "### Training Starts HERE\n",
    "* Training this model is time-consuming\n",
    "* Very prone to gradient explosion so very small learning rate required\n",
    "* Adjust accordingly to actual configuration"
   ]
  },
  {
   "cell_type": "code",
   "execution_count": null,
   "metadata": {
    "colab": {
     "base_uri": "https://localhost:8080/",
     "height": 136
    },
    "colab_type": "code",
    "executionInfo": {
     "elapsed": 46154,
     "status": "ok",
     "timestamp": 1594993419609,
     "user": {
      "displayName": "West Russ",
      "photoUrl": "",
      "userId": "05427756979758116502"
     },
     "user_tz": -60
    },
    "id": "9mIUF-qu2Az-",
    "outputId": "482f193c-547c-4c5f-fd98-2a5858de6201",
    "scrolled": true
   },
   "outputs": [],
   "source": [
    "utils.trainer(\n",
    "    sess, \n",
    "    num_steps=100, \n",
    "    train_op=train_op, \n",
    "    feed_dict_fn=lambda: {lr_ph: 0.000005, beta_ph: 1.0}, \n",
    "    metrics=[metrics], \n",
    "    hooks=[plot_metrics_hook]\n",
    ")\n",
    "\n",
    "saver = tf.train.Saver()\n",
    "save_path = saver.save(sess, \"t1-4-saves/steps.ckpt\")\n",
    "print(\"Model saved in path: %s\" % save_path)"
   ]
  },
  {
   "cell_type": "code",
   "execution_count": null,
   "metadata": {
    "colab": {
     "base_uri": "https://localhost:8080/",
     "height": 1000
    },
    "colab_type": "code",
    "executionInfo": {
     "elapsed": 850248,
     "status": "ok",
     "timestamp": 1594994298197,
     "user": {
      "displayName": "West Russ",
      "photoUrl": "",
      "userId": "05427756979758116502"
     },
     "user_tz": -60
    },
    "id": "VUXa20jh2A0C",
    "outputId": "ca268c8f-d61e-4451-cbf4-c9a81ff55602",
    "scrolled": true
   },
   "outputs": [],
   "source": [
    "for i in range(5):\n",
    "    utils.trainer(\n",
    "        sess, \n",
    "        num_steps=1000, \n",
    "        train_op=train_op, \n",
    "        feed_dict_fn=lambda: {lr_ph: 0.00002, beta_ph: 1.0}, \n",
    "        metrics=[metrics], \n",
    "        hooks=[plot_metrics_hook]\n",
    "    )\n",
    "    \n",
    "    plt.subplot(121)\n",
    "    plt.imshow(utils.plot_grid(x_flow_sampled_uint).eval({lr_ph: 0.0, beta_ph: 0.9}))\n",
    "    plt.subplot(122)\n",
    "    plt.imshow(utils.plot_grid(x_flow_sampled_uint).eval({lr_ph: 0.0, beta_ph: 1.0}))\n",
    "    plt.show()\n",
    "    \n",
    "    saver = tf.train.Saver()\n",
    "    save_path = saver.save(sess, \"t1-4-saves/steps.ckpt\")\n",
    "    print(\"Model saved in path: %s\" % save_path)"
   ]
  },
  {
   "cell_type": "code",
   "execution_count": null,
   "metadata": {
    "colab": {},
    "colab_type": "code",
    "id": "uNup_Qp42A0K",
    "scrolled": false
   },
   "outputs": [],
   "source": [
    "for i in range(5):\n",
    "    utils.trainer(\n",
    "        sess, \n",
    "        num_steps=1000,\n",
    "        train_op=train_op, \n",
    "        feed_dict_fn=lambda: {lr_ph: 0.00001, beta_ph: 1.0}, \n",
    "        metrics=[metrics], \n",
    "        hooks=[plot_metrics_hook]\n",
    "    )\n",
    "    \n",
    "    plt.subplot(121)\n",
    "    plt.imshow(utils.plot_grid(x_flow_sampled_uint).eval({lr_ph: 0.0, beta_ph: 0.9}))\n",
    "    plt.subplot(122)\n",
    "    plt.imshow(utils.plot_grid(x_flow_sampled_uint).eval({lr_ph: 0.0, beta_ph: 1.0}))\n",
    "    plt.show()\n",
    "\n",
    "    saver = tf.train.Saver()\n",
    "    save_path = saver.save(sess, \"t1-4-saves/steps.ckpt\")\n",
    "    print(\"Model saved in path: %s\" % save_path)"
   ]
  },
  {
   "cell_type": "markdown",
   "metadata": {
    "colab_type": "text",
    "id": "ajljUmDs2A0g"
   },
   "source": [
    "### Optional: Test Effects of Different Temperatures"
   ]
  },
  {
   "cell_type": "code",
   "execution_count": null,
   "metadata": {},
   "outputs": [],
   "source": [
    "saver = tf.train.Saver()\n",
    "saver.restore(sess, \"t1-4-saves/steps.ckpt\")"
   ]
  },
  {
   "cell_type": "code",
   "execution_count": null,
   "metadata": {
    "colab": {
     "base_uri": "https://localhost:8080/",
     "height": 392
    },
    "colab_type": "code",
    "executionInfo": {
     "elapsed": 902,
     "status": "error",
     "timestamp": 1594858615610,
     "user": {
      "displayName": "West Russ",
      "photoUrl": "",
      "userId": "05427756979758116502"
     },
     "user_tz": -60
    },
    "id": "Y-0qWdJF2A0i",
    "outputId": "c1e38e3a-d4d8-45b9-ed50-fcc45a65130c",
    "scrolled": true
   },
   "outputs": [],
   "source": [
    "for beta in np.linspace(0.0, 1.5, 10):\n",
    "    print(f\"beta={beta:10.4f}\")\n",
    "    plt.figure(figsize=(5, 5))\n",
    "    plt.imshow(utils.plot_grid(x_flow_sampled_uint).eval({lr_ph: 0.0, beta_ph: beta}))\n",
    "    plt.show()"
   ]
  },
  {
   "cell_type": "code",
   "execution_count": null,
   "metadata": {
    "colab": {},
    "colab_type": "code",
    "id": "MZ6HOCfv2A0l",
    "outputId": "7e6e64fe-a4ba-461f-e991-d48aa750f443"
   },
   "outputs": [],
   "source": [
    "plot_metrics_hook.run()"
   ]
  },
  {
   "cell_type": "markdown",
   "metadata": {
    "colab_type": "text",
    "id": "LbmqW_cS2A0p"
   },
   "source": [
    "## Model Evaluation \n",
    "### Augment $y_{a}$ for Next Step Comparison"
   ]
  },
  {
   "cell_type": "code",
   "execution_count": null,
   "metadata": {
    "colab": {},
    "colab_type": "code",
    "id": "o9NDzYkQ2A0q",
    "outputId": "47e77773-a5c4-4079-97cf-d8d58e8e0255"
   },
   "outputs": [],
   "source": [
    "y_flatten_np = np.concatenate([y_flatten.eval({lr_ph: 0.0, beta_ph: 1.0}) for i in range(100)])\n",
    "y_flatten_np.shape"
   ]
  },
  {
   "cell_type": "markdown",
   "metadata": {
    "colab_type": "text",
    "id": "95PQTZQn2A0x"
   },
   "source": [
    "### Check Gaussianization of $p(y_{a})$\n",
    "* $p(y_{a})$ expected to be Gaussianized\n",
    "* Two distributions are expected to match"
   ]
  },
  {
   "cell_type": "code",
   "execution_count": null,
   "metadata": {
    "colab": {},
    "colab_type": "code",
    "id": "HUVB93zJ2A0y",
    "outputId": "e823ded2-0c2e-4f6d-f71e-88a80fe4fbfc"
   },
   "outputs": [],
   "source": [
    "plt.scatter(y_flatten_np[:, 0], y_flatten_np[:, 1], label=\"sampled\")\n",
    "plt.scatter(*np.random.randn(2, 1000), alpha=0.7, label=\"N(0, 1)\")\n",
    "plt.axis(\"equal\")\n",
    "plt.legend()"
   ]
  },
  {
   "cell_type": "markdown",
   "metadata": {},
   "source": [
    "### Augment $y_{b}$ for Next Step Comparison"
   ]
  },
  {
   "cell_type": "code",
   "execution_count": null,
   "metadata": {},
   "outputs": [],
   "source": [
    "z_flatten_np = np.concatenate([z_flatten.eval({lr_ph: 0.0, beta_ph: 1.0}) for i in range(100)])\n",
    "z_flatten_np.shape"
   ]
  },
  {
   "cell_type": "markdown",
   "metadata": {},
   "source": [
    "### Check $p(y_{b})$ (Trivial)"
   ]
  },
  {
   "cell_type": "code",
   "execution_count": null,
   "metadata": {},
   "outputs": [],
   "source": [
    "plt.scatter(z_flatten_np[:, 0], z_flatten_np[:, 1], label=\"sampled\")\n",
    "plt.scatter(*np.random.randn(2, 1000), alpha=0.7, label=\"N(0, 1)\")\n",
    "plt.axis(\"equal\")\n",
    "plt.legend()"
   ]
  },
  {
   "cell_type": "markdown",
   "metadata": {
    "colab_type": "text",
    "id": "e8usCFzg2A09"
   },
   "source": [
    "## Control Variable Experiment"
   ]
  },
  {
   "cell_type": "code",
   "execution_count": null,
   "metadata": {
    "colab": {},
    "colab_type": "code",
    "id": "77a9NMro2A0-"
   },
   "outputs": [],
   "source": [
    "beta_y_ph = tf.placeholder(tf.float32, [])\n",
    "beta_z_ph = tf.placeholder(tf.float32, [])\n",
    "prior_y_prim = tfd.MultivariateNormalDiag(\n",
    "    loc=tf.zeros_like(y_flatten), scale_diag=beta_y_ph * tf.ones_like(y_flatten))\n",
    "prior_z_prim = tfd.MultivariateNormalDiag(\n",
    "    loc=tf.zeros_like(z_flatten), scale_diag=beta_z_ph * tf.ones_like(z_flatten))"
   ]
  },
  {
   "cell_type": "code",
   "execution_count": null,
   "metadata": {
    "colab": {},
    "colab_type": "code",
    "id": "2jMyYoKI2A1B"
   },
   "outputs": [],
   "source": [
    "sample_y_flatten_prim = prior_y_prim.sample()\n",
    "sample_y_prim = tf.reshape(sample_y_flatten_prim, y.shape.as_list())\n",
    "sample_z_prim = tf.reshape(prior_z_prim.sample(), z.shape.as_list())\n",
    "sampled_logdet_prim = prior_y_prim.log_prob(sample_y_flatten_prim)"
   ]
  },
  {
   "cell_type": "code",
   "execution_count": null,
   "metadata": {
    "colab": {},
    "colab_type": "code",
    "id": "_ry9p31N2A1F",
    "outputId": "b60c4f06-29d3-4673-bfd1-c99ae98cb054",
    "scrolled": true
   },
   "outputs": [],
   "source": [
    "inverse_flow_prim = sample_y_prim, sampled_logdet_prim, sample_z_prim\n",
    "sampled_flow_prim = model_flow(inverse_flow_prim, forward=False)"
   ]
  },
  {
   "cell_type": "code",
   "execution_count": null,
   "metadata": {
    "colab": {},
    "colab_type": "code",
    "id": "RRv4e01f2A1J"
   },
   "outputs": [],
   "source": [
    "x_flow_sampled_prim, _, _ = sampled_flow_prim"
   ]
  },
  {
   "cell_type": "markdown",
   "metadata": {
    "colab_type": "text",
    "id": "vqeSPjwv2A1O"
   },
   "source": [
    "### Effect of $T_{b}$ with $T_{a}=1.0$"
   ]
  },
  {
   "cell_type": "code",
   "execution_count": null,
   "metadata": {
    "colab": {},
    "colab_type": "code",
    "id": "rWUCZcnq2A1P",
    "outputId": "f0402f4d-3346-42aa-ff6b-612549604e24",
    "scrolled": true
   },
   "outputs": [],
   "source": [
    "for beta in np.linspace(1.0, 2.0, 10):\n",
    "    print(f\"beta={beta:10.4f}\")\n",
    "    plt.figure(figsize=(5, 5))\n",
    "    plt.imshow(utils.plot_grid(x_flow_sampled_prim).eval({\n",
    "        lr_ph: 0.0,\n",
    "        beta_y_ph: 1.0, \n",
    "        beta_z_ph: beta\n",
    "    }))\n",
    "    plt.show()"
   ]
  },
  {
   "cell_type": "markdown",
   "metadata": {
    "colab_type": "text",
    "id": "SGx1JKZj2A1T"
   },
   "source": [
    "### Effect of $T_{a}$ with $T_{b}=1.0$"
   ]
  },
  {
   "cell_type": "code",
   "execution_count": null,
   "metadata": {
    "colab": {},
    "colab_type": "code",
    "id": "iWOKwQEJ2A1T",
    "outputId": "b90dde84-1362-4c6a-cd0d-2707245f0bd3",
    "scrolled": true
   },
   "outputs": [],
   "source": [
    "for beta in np.linspace(1.0, 2.0, 10):\n",
    "    print(f\"beta={beta:10.4f}\")\n",
    "    plt.figure(figsize=(7, 7))\n",
    "    plt.imshow(utils.plot_grid(x_flow_sampled_prim).eval({\n",
    "        lr_ph: 0.0,\n",
    "        beta_y_ph: beta, \n",
    "        beta_z_ph: 1.0\n",
    "    }))\n",
    "    plt.show()"
   ]
  }
 ],
 "metadata": {
  "accelerator": "GPU",
  "colab": {
   "collapsed_sections": [
    "ss4dGVUa2AyR",
    "EKfOefBk2Ayc",
    "_EGcgOmk2Ayi",
    "6WHX8wgE2Ays",
    "-a9611vB2Ayx",
    "m6oNpXdA2Ay3",
    "gN8Mddkf2Ay8",
    "audSyoep2AzO",
    "Q-lChHX22Azi",
    "tWIzqxA72Azm",
    "c7hlirkw2Azr",
    "-8HNcXFH2Az2",
    "Uyo7MR1p2Az9",
    "ajljUmDs2A0g",
    "LbmqW_cS2A0p",
    "95PQTZQn2A0x",
    "nRbPrnxd2A01",
    "CtU12EhM2A06",
    "e8usCFzg2A09",
    "vqeSPjwv2A1O",
    "SGx1JKZj2A1T"
   ],
   "name": "main.ipynb",
   "provenance": []
  },
  "kernelspec": {
   "display_name": "Python 3.7.4 64-bit (conda)",
   "language": "python",
   "name": "python_defaultSpec_1597316778410"
  },
  "language_info": {
   "codemirror_mode": {
    "name": "ipython",
    "version": 3
   },
   "file_extension": ".py",
   "mimetype": "text/x-python",
   "name": "python",
   "nbconvert_exporter": "python",
   "pygments_lexer": "ipython3",
   "version": "3.7.4-final"
  },
  "toc": {
   "colors": {
    "hover_highlight": "#DAA520",
    "navigate_num": "#000000",
    "navigate_text": "#333333",
    "running_highlight": "#FF0000",
    "selected_highlight": "#FFD700",
    "sidebar_border": "#EEEEEE",
    "wrapper_background": "#FFFFFF"
   },
   "moveMenuLeft": true,
   "nav_menu": {
    "height": "512px",
    "width": "252px"
   },
   "navigate_menu": true,
   "number_sections": true,
   "sideBar": true,
   "threshold": 4,
   "toc_cell": false,
   "toc_section_display": "block",
   "toc_window_display": true,
   "widenNotebook": false
  },
  "varInspector": {
   "cols": {
    "lenName": 16,
    "lenType": 16,
    "lenVar": 40
   },
   "kernels_config": {
    "python": {
     "delete_cmd_postfix": "",
     "delete_cmd_prefix": "del ",
     "library": "var_list.py",
     "varRefreshCmd": "print(var_dic_list())"
    },
    "r": {
     "delete_cmd_postfix": ") ",
     "delete_cmd_prefix": "rm(",
     "library": "var_list.r",
     "varRefreshCmd": "cat(var_dic_list()) "
    }
   },
   "types_to_exclude": [
    "module",
    "function",
    "builtin_function_or_method",
    "instance",
    "_Feature"
   ],
   "window_display": false
  }
 },
 "nbformat": 4,
 "nbformat_minor": 1
}