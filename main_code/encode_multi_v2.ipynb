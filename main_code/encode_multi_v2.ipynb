{
 "cells": [
  {
   "cell_type": "markdown",
   "metadata": {
    "colab_type": "text",
    "id": "r_H3toxOx-z_"
   },
   "source": [
    "## Preparations\n",
    "* TensorFlow version == 1.x required\n",
    "* Gast version == 0.2.x, TensorFlow-Gan version == 1.x required"
   ]
  },
  {
   "cell_type": "code",
   "execution_count": null,
   "metadata": {
    "colab": {},
    "colab_type": "code",
    "executionInfo": {
     "elapsed": 477,
     "status": "ok",
     "timestamp": 1596486672444,
     "user": {
      "displayName": "West Russ",
      "photoUrl": "",
      "userId": "05427756979758116502"
     },
     "user_tz": -60
    },
    "id": "HYLr13jWx-1L"
   },
   "outputs": [],
   "source": [
    "import os\n",
    "os.environ[\"CUDA_VISIBLE_DEVICES\"] = \"0\""
   ]
  },
  {
   "cell_type": "code",
   "execution_count": null,
   "metadata": {
    "colab": {
     "base_uri": "https://localhost:8080/",
     "height": 34
    },
    "colab_type": "code",
    "executionInfo": {
     "elapsed": 8546,
     "status": "ok",
     "timestamp": 1596486680842,
     "user": {
      "displayName": "West Russ",
      "photoUrl": "",
      "userId": "05427756979758116502"
     },
     "user_tz": -60
    },
    "id": "6DqbZ_kRx-2Q",
    "outputId": "9aac6c72-bdfe-4922-9357-e1a85e4b56fe"
   },
   "outputs": [],
   "source": [
    "import numpy as np\n",
    "import tensorflow as tf\n",
    "from tensorflow.python.ops import io_ops\n",
    "from scipy.stats import norm\n",
    "import matplotlib.pyplot as plt\n",
    "from tensorflow.python.ops import io_ops\n",
    "tfd = tf.contrib.distributions\n",
    "\n",
    "%matplotlib inline\n",
    "%load_ext autoreload\n",
    "%autoreload 2"
   ]
  },
  {
   "cell_type": "code",
   "execution_count": null,
   "metadata": {
    "colab": {
     "base_uri": "https://localhost:8080/",
     "height": 476
    },
    "colab_type": "code",
    "executionInfo": {
     "elapsed": 9723,
     "status": "ok",
     "timestamp": 1596486682839,
     "user": {
      "displayName": "West Russ",
      "photoUrl": "",
      "userId": "05427756979758116502"
     },
     "user_tz": -60
    },
    "id": "wovB_quBx-2m",
    "outputId": "0a771cab-a46e-43e5-b228-330bcfb124d5"
   },
   "outputs": [],
   "source": [
    "from tensorflow.python.client import device_lib\n",
    "device_lib.list_local_devices()"
   ]
  },
  {
   "cell_type": "code",
   "execution_count": null,
   "metadata": {
    "colab": {
     "base_uri": "https://localhost:8080/",
     "height": 241
    },
    "colab_type": "code",
    "executionInfo": {
     "elapsed": 14362,
     "status": "ok",
     "timestamp": 1596486689360,
     "user": {
      "displayName": "West Russ",
      "photoUrl": "",
      "userId": "05427756979758116502"
     },
     "user_tz": -60
    },
    "id": "ea7B8S5Hx-3E",
    "outputId": "c6b70d4f-238b-4e31-99f9-34a97366f03b"
   },
   "outputs": [],
   "source": [
    "import utils\n",
    "import nets\n",
    "import flow_layers as fl"
   ]
  },
  {
   "cell_type": "code",
   "execution_count": null,
   "metadata": {
    "colab": {
     "base_uri": "https://localhost:8080/",
     "height": 34
    },
    "colab_type": "code",
    "executionInfo": {
     "elapsed": 13573,
     "status": "ok",
     "timestamp": 1596486689361,
     "user": {
      "displayName": "West Russ",
      "photoUrl": "",
      "userId": "05427756979758116502"
     },
     "user_tz": -60
    },
    "id": "9omZ-zg-x-3K",
    "outputId": "1966100a-c209-47ed-f12e-a051bb11833d"
   },
   "outputs": [],
   "source": [
    "print(tf.__version__)"
   ]
  },
  {
   "cell_type": "code",
   "execution_count": null,
   "metadata": {
    "colab": {},
    "colab_type": "code",
    "executionInfo": {
     "elapsed": 12729,
     "status": "ok",
     "timestamp": 1596486689362,
     "user": {
      "displayName": "West Russ",
      "photoUrl": "",
      "userId": "05427756979758116502"
     },
     "user_tz": -60
    },
    "id": "EHcGhRArx-3Q"
   },
   "outputs": [],
   "source": [
    "config = tf.ConfigProto()\n",
    "config.allow_soft_placement=True\n",
    "config.gpu_options.allow_growth = True\n",
    "tf.set_random_seed(0)\n",
    "sess = tf.InteractiveSession(config=config)"
   ]
  },
  {
   "cell_type": "markdown",
   "metadata": {
    "ExecuteTime": {
     "end_time": "2018-10-04T13:15:31.716054Z",
     "start_time": "2018-10-04T13:15:31.713926Z"
    },
    "colab_type": "text",
    "id": "1CiskeoZx-3X"
   },
   "source": [
    "## Main Part"
   ]
  },
  {
   "cell_type": "code",
   "execution_count": null,
   "metadata": {
    "colab": {
     "base_uri": "https://localhost:8080/",
     "height": 479
    },
    "colab_type": "code",
    "executionInfo": {
     "elapsed": 795,
     "status": "ok",
     "timestamp": 1596486694667,
     "user": {
      "displayName": "West Russ",
      "photoUrl": "",
      "userId": "05427756979758116502"
     },
     "user_tz": -60
    },
    "id": "iwxefsDrx-3b",
    "outputId": "f622dfc6-1275-45ef-c8fa-4245a3a95047"
   },
   "outputs": [],
   "source": [
    "batch_size = 1\n",
    "image_size = 128"
   ]
  },
  {
   "cell_type": "code",
   "execution_count": null,
   "metadata": {
    "colab": {},
    "colab_type": "code",
    "executionInfo": {
     "elapsed": 362,
     "status": "ok",
     "timestamp": 1596486708048,
     "user": {
      "displayName": "West Russ",
      "photoUrl": "",
      "userId": "05427756979758116502"
     },
     "user_tz": -60
    },
    "id": "4veFVMC1x-43"
   },
   "outputs": [],
   "source": [
    "nn_template_fn = nets.OpenAITemplate(\n",
    "    width=128\n",
    ")"
   ]
  },
  {
   "cell_type": "code",
   "execution_count": null,
   "metadata": {},
   "outputs": [],
   "source": [
    "layers_encoder, actnorm_layers_encoder = nets.create_simple_flow(\n",
    "    num_steps=32, \n",
    "    num_scales=5, \n",
    "    template_fn=nn_template_fn\n",
    ")"
   ]
  },
  {
   "cell_type": "code",
   "execution_count": null,
   "metadata": {},
   "outputs": [],
   "source": [
    "for i in range(1,3):\n",
    "    tensor_reader = tf.train.NewCheckpointReader(\"aux-saves/\" + str(i) + \".ckpt\")\n",
    "    tmp = tensor_reader.get_tensor(str(i))\n",
    "    image = tf.convert_to_tensor(tmp)\n",
    "    flow_encoder = fl.InputLayer(tf.expand_dims(image, axis=0))\n",
    "    a, _, _ = flow_encoder\n",
    "    save_op = io_ops._save(filename=\"flow_encoder/a\" + str(i) + \".ckpt\", tensor_names=[\"a\" + str(i)],\n",
    "                       tensors=[a])\n",
    "    sess.run(save_op) "
   ]
  },
  {
   "cell_type": "code",
   "execution_count": null,
   "metadata": {},
   "outputs": [],
   "source": [
    "for i in range(1,3):\n",
    "    tensor_reader = tf.train.NewCheckpointReader(\"aux-saves/\" + str(i) + \".ckpt\")\n",
    "    tmp = tensor_reader.get_tensor(str(i))\n",
    "    image = tf.convert_to_tensor(tmp)\n",
    "    \n",
    "    flow_encoder = fl.InputLayer(tf.expand_dims(image, axis=0))\n",
    "    _, b, _ = flow_encoder\n",
    "    save_op = io_ops._save(filename=\"flow_encoder/b\" + str(i) + \".ckpt\", tensor_names=[\"b\" + str(i)],\n",
    "                       tensors=[b])\n",
    "    sess.run(save_op) "
   ]
  },
  {
   "cell_type": "code",
   "execution_count": null,
   "metadata": {},
   "outputs": [],
   "source": [
    "image_hold = tf.placeholder(tf.float32, [1, image_size, image_size, 3])"
   ]
  },
  {
   "cell_type": "code",
   "execution_count": null,
   "metadata": {},
   "outputs": [],
   "source": [
    "flow = fl.InputLayer(image_hold)\n",
    "model_flow = fl.ChainLayer(layers_encoder)\n",
    "output_flow = model_flow(flow, forward=True)"
   ]
  },
  {
   "cell_type": "code",
   "execution_count": null,
   "metadata": {},
   "outputs": [],
   "source": [
    "saver = tf.train.Saver()\n",
    "saver.restore(sess, \"t1-1-saves/steps.ckpt\")"
   ]
  },
  {
   "cell_type": "code",
   "execution_count": null,
   "metadata": {},
   "outputs": [],
   "source": [
    "for i in range(1,3):\n",
    "    reader_a = tf.train.NewCheckpointReader(\"flow_encoder/a\" + str(i) + \".ckpt\")\n",
    "    tmp_a = reader_a.get_tensor(\"a\" + str(i))\n",
    "    x = tf.convert_to_tensor(tmp_a)\n",
    "    \n",
    "    reader_b = tf.train.NewCheckpointReader(\"flow_encoder/b\" + str(i) + \".ckpt\")\n",
    "    tmp_b = reader_b.get_tensor(\"b\" + str(i))\n",
    "    y = tf.convert_to_tensor(tmp_b)\n",
    "    \n",
    "    inputs = x, y, None\n",
    "    encoder_outputs = model_flow(inputs, forward=True)\n",
    "    aa, bb, cc = encoder_outputs\n",
    "    \n",
    "    save_op_1 = io_ops._save(filename=\"aux-saves/a\" + str(i) + \".ckpt\", tensor_names=[\"a\" + str(i)],\n",
    "                           tensors=[aa])\n",
    "    save_op_2 = io_ops._save(filename=\"aux-saves/b\" + str(i) + \".ckpt\", tensor_names=[\"b\" + str(i)],\n",
    "                           tensors=[bb])\n",
    "    save_op_3 = io_ops._save(filename=\"aux-saves/c\" + str(i) + \".ckpt\", tensor_names=[\"c\" + str(i)],\n",
    "                           tensors=[cc])\n",
    "    \n",
    "    sess.run(save_op_1) \n",
    "    sess.run(save_op_2) \n",
    "    sess.run(save_op_3) "
   ]
  }
 ],
 "metadata": {
  "accelerator": "GPU",
  "colab": {
   "collapsed_sections": [],
   "name": "bi-flow.ipynb",
   "provenance": []
  },
  "kernelspec": {
   "display_name": "py_test_env",
   "language": "python",
   "name": "py_test_env"
  },
  "language_info": {
   "codemirror_mode": {
    "name": "ipython",
    "version": 3
   },
   "file_extension": ".py",
   "mimetype": "text/x-python",
   "name": "python",
   "nbconvert_exporter": "python",
   "pygments_lexer": "ipython3",
   "version": "3.7.0"
  },
  "toc": {
   "colors": {
    "hover_highlight": "#DAA520",
    "navigate_num": "#000000",
    "navigate_text": "#333333",
    "running_highlight": "#FF0000",
    "selected_highlight": "#FFD700",
    "sidebar_border": "#EEEEEE",
    "wrapper_background": "#FFFFFF"
   },
   "moveMenuLeft": true,
   "nav_menu": {
    "height": "512px",
    "width": "252px"
   },
   "navigate_menu": true,
   "number_sections": true,
   "sideBar": true,
   "threshold": 4,
   "toc_cell": false,
   "toc_section_display": "block",
   "toc_window_display": true,
   "widenNotebook": false
  },
  "varInspector": {
   "cols": {
    "lenName": 16,
    "lenType": 16,
    "lenVar": 40
   },
   "kernels_config": {
    "python": {
     "delete_cmd_postfix": "",
     "delete_cmd_prefix": "del ",
     "library": "var_list.py",
     "varRefreshCmd": "print(var_dic_list())"
    },
    "r": {
     "delete_cmd_postfix": ") ",
     "delete_cmd_prefix": "rm(",
     "library": "var_list.r",
     "varRefreshCmd": "cat(var_dic_list()) "
    }
   },
   "types_to_exclude": [
    "module",
    "function",
    "builtin_function_or_method",
    "instance",
    "_Feature"
   ],
   "window_display": false
  }
 },
 "nbformat": 4,
 "nbformat_minor": 1
}